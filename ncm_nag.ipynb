{
 "cells": [
  {
   "cell_type": "markdown",
   "metadata": {},
   "source": [
    "# Nearest Correlation Matrix with NAG"
   ]
  },
  {
   "cell_type": "markdown",
   "metadata": {},
   "source": [
    "Import required modules and set print options"
   ]
  },
  {
   "cell_type": "code",
   "execution_count": 42,
   "metadata": {
    "collapsed": false
   },
   "outputs": [],
   "source": [
    "import numpy as np\n",
    "import nag4py.g02 as nag_g02\n",
    "import nag4py.util as nag_util\n",
    "import matplotlib.pyplot as plt\n",
    "\"Plot inline\"\n",
    "%matplotlib inline\n",
    "\"Set the print precision.\"\n",
    "np.set_printoptions(precision=4)"
   ]
  },
  {
   "cell_type": "markdown",
   "metadata": {},
   "source": [
    "## Start with an incomplete matrix P"
   ]
  },
  {
   "cell_type": "code",
   "execution_count": 43,
   "metadata": {
    "collapsed": false
   },
   "outputs": [],
   "source": [
    "\"Define a 2-d array and us np.nan to set the NaNs.\"\n",
    "P = np.array([[59.875, 42.734, 47.938, 60.359, 54.016, 69.625, 61.500, 62.125],\n",
    "              [53.188, 49.000, 39.500, np.nan, 34.750, np.nan, 83.000, 44.500],\n",
    "              [55.750, 50.000, 38.938, np.nan, 30.188, np.nan, 70.875, 29.938],\n",
    "              [65.500, 51.063, 45.563, 69.313, 48.250, 62.375, 85.250, np.nan],\n",
    "              [69.938, 47.000, 52.313, 71.016, np.nan, 59.359, 61.188, 48.219],\n",
    "              [61.500, 44.188, 53.438, 57.000, 35.313, 55.813, 51.500, 62.188],\n",
    "              [59.230, 48.210, 62.190, 61.390, 54.310, 70.170, 61.750, 91.080],\n",
    "              [61.230, 48.700, 60.300, 68.580, 61.250, 70.340, np.nan, np.nan],\n",
    "              [52.900, 52.690, 54.230, np.nan, 68.170, 70.600, 57.870, 88.640],\n",
    "              [57.370, 59.040, 59.870, 62.090, 61.620, 66.470, 65.370, 85.840]])"
   ]
  },
  {
   "cell_type": "code",
   "execution_count": 44,
   "metadata": {
    "collapsed": false
   },
   "outputs": [],
   "source": [
    "def cov_bar(P):\n",
    "    \"\"\"Returns an approximate sample covarience matrix\"\"\"\n",
    "    \"P.shape returns a tuple (m, n) that we unpack to m and n.\"\n",
    "    m, n = P.shape\n",
    "    \"Initialise an nxn zero matrix.\"\n",
    "    S = np.zeros((n, n))\n",
    "    \"i = 0, ..., 7.\"\n",
    "    for i in range(0, n): \n",
    "        \"Take the ith column.\"\n",
    "        xi = P[:, i]\n",
    "        \"j = 0, ..., i\"\n",
    "        for j in range(0, i+1):\n",
    "            \"Take the jth column, where j <= i.\"\n",
    "            xj = P[:, j] \n",
    "            \"\"\"masked_array masks elements marked as True; this is the opposite behaviour of \n",
    "the MATLAB script. Therefore, we need ~(~np.isnan(xi) & ~np.isnan(xj)), which I \n",
    "have simplified below and will label notp.\"\"\"\n",
    "            \"Set mask such that all nans are True.\"\n",
    "            notp = np.isnan(xi) | np.isnan(xj) \n",
    "            \"Apply the mask to xi\"\n",
    "            xim = np.ma.masked_array(xi, mask=notp)\n",
    "            \"Apply the mask to xj\"\n",
    "            xjm = np.ma.masked_array(xj, mask=notp) \n",
    "            S[i, j] = np.ma.dot(xim - np.mean(xim), xjm - np.mean(xjm))\n",
    "            \"\"\"As we used notp as our mask, we must take the sum over ~notp to give the \n",
    "same result as the MATLAB script when normalising.\"\"\"\n",
    "            S[i, j] = 1.0 / (sum(~notp) - 1) * S[i, j]\n",
    "            S[j, i] = S[i, j]\n",
    "    return S"
   ]
  },
  {
   "cell_type": "code",
   "execution_count": 45,
   "metadata": {
    "collapsed": false
   },
   "outputs": [],
   "source": [
    "def cor_bar(P):\n",
    "    \"\"\"Returns an approximate sample correlation matrix\"\"\"\n",
    "    S = cov_bar(P)\n",
    "    D = np.diag(1.0 / np.sqrt(np.diag(S)))\n",
    "    \"This is will only work in Python3\"\n",
    "    return D @ S @ D \n"
   ]
  },
  {
   "cell_type": "markdown",
   "metadata": {},
   "source": [
    "## Calculate the correlation matrix of P."
   ]
  },
  {
   "cell_type": "code",
   "execution_count": 46,
   "metadata": {
    "collapsed": false
   },
   "outputs": [
    {
     "name": "stdout",
     "output_type": "stream",
     "text": [
      "[[ 1.     -0.325   0.1881  0.576   0.0064 -0.6111 -0.0724 -0.1589]\n",
      " [-0.325   1.      0.2048  0.2436  0.4058  0.273   0.2869  0.4241]\n",
      " [ 0.1881  0.2048  1.     -0.1325  0.7658  0.2765 -0.6172  0.9006]\n",
      " [ 0.576   0.2436 -0.1325  1.      0.3041  0.0126  0.6452 -0.321 ]\n",
      " [ 0.0064  0.4058  0.7658  0.3041  1.      0.6652 -0.3293  0.9939]\n",
      " [-0.6111  0.273   0.2765  0.0126  0.6652  1.      0.0492  0.5964]\n",
      " [-0.0724  0.2869 -0.6172  0.6452 -0.3293  0.0492  1.     -0.3983]\n",
      " [-0.1589  0.4241  0.9006 -0.321   0.9939  0.5964 -0.3983  1.    ]]\n"
     ]
    }
   ],
   "source": [
    "G = cor_bar(P)\n",
    "print(G)"
   ]
  },
  {
   "cell_type": "markdown",
   "metadata": {},
   "source": [
    "### Some of the eigenvalues are negative and therefore the matrix is not semi-positive definite."
   ]
  },
  {
   "cell_type": "code",
   "execution_count": 47,
   "metadata": {
    "collapsed": false
   },
   "outputs": [
    {
     "name": "stdout",
     "output_type": "stream",
     "text": [
      "The sorted eigenvalues of G [-0.2498 -0.016   0.0895  0.2192  0.7072  1.7534  1.9611  3.5355]\n"
     ]
    }
   ],
   "source": [
    "print(\"The sorted eigenvalues of G {}\".format(np.sort(np.linalg.eig(G)[0])))"
   ]
  },
  {
   "cell_type": "markdown",
   "metadata": {},
   "source": [
    "## Use g02aa to calculate the nearest correlation matrix in the Frobenius norm"
   ]
  },
  {
   "cell_type": "code",
   "execution_count": 48,
   "metadata": {
    "collapsed": false
   },
   "outputs": [],
   "source": [
    "order = nag_util.Nag_RowMajor\n",
    "Gflat = G.flatten()\n",
    "n = G.shape[0]\n",
    "pdg = n\n",
    "errtol = 0.0\n",
    "maxits = 0\n",
    "maxit = 0\n",
    "Xflat = np.empty_like(Gflat)\n",
    "pdx = n\n",
    "itr = np.array([0])\n",
    "feval = np.array([0])\n",
    "nrmgrd = np.array([0.0])\n",
    "fail = nag_util.noisy_fail()\n",
    "nag_g02.g02aac(order, Gflat, pdg, n, errtol, maxits, \n",
    "               maxit, Xflat, pdx, itr, feval, nrmgrd, fail)"
   ]
  },
  {
   "cell_type": "code",
   "execution_count": 49,
   "metadata": {
    "collapsed": false
   },
   "outputs": [
    {
     "name": "stdout",
     "output_type": "stream",
     "text": [
      "[[ 1.     -0.3112  0.1889  0.5396  0.0268 -0.5925 -0.0621 -0.1921]\n",
      " [-0.3112  1.      0.205   0.2265  0.4148  0.2822  0.2915  0.4088]\n",
      " [ 0.1889  0.205   1.     -0.1468  0.788   0.2727 -0.6085  0.8802]\n",
      " [ 0.5396  0.2265 -0.1468  1.      0.2137  0.0015  0.6069 -0.2208]\n",
      " [ 0.0268  0.4148  0.788   0.2137  1.      0.658  -0.2812  0.8762]\n",
      " [-0.5925  0.2822  0.2727  0.0015  0.658   1.      0.0479  0.5932]\n",
      " [-0.0621  0.2915 -0.6085  0.6069 -0.2812  0.0479  1.     -0.447 ]\n",
      " [-0.1921  0.4088  0.8802 -0.2208  0.8762  0.5932 -0.447   1.    ]]\n"
     ]
    }
   ],
   "source": [
    "\"Unflatten X to have the same shape as G for comparison.\"\n",
    "X = np.reshape(Xflat, G.shape) \n",
    "print(X)"
   ]
  },
  {
   "cell_type": "code",
   "execution_count": 50,
   "metadata": {
    "collapsed": false
   },
   "outputs": [
    {
     "name": "stdout",
     "output_type": "stream",
     "text": [
      "The sorted eigenvalues of X [-0.0000 -0.0000 0.0380 0.1731 0.6894 1.7117 1.9217 3.4661 ]\n"
     ]
    }
   ],
   "source": [
    "print(\"The sorted eigenvalues of X [{0}]\".format(''.join(\n",
    "            ['{:.4f} '.format(x) for x in np.sort(np.linalg.eig(X)[0])])))"
   ]
  },
  {
   "cell_type": "code",
   "execution_count": 51,
   "metadata": {
    "collapsed": false
   },
   "outputs": [
    {
     "data": {
      "image/png": "[encoded data removed]",
      "text/plain": [
       "<matplotlib.figure.Figure at 0x23e2feffba8>"
      ]
     },
     "metadata": {},
     "output_type": "display_data"
    }
   ],
   "source": [
    "fig1, ax1 = plt.subplots(figsize=(14, 7))\n",
    "cax1 = ax1.imshow(abs(X-G), interpolation='none', cmap=plt.cm.Blues, vmin=0, vmax=0.2)\n",
    "cbar = fig1.colorbar(cax1, ticks = np.linspace(0.0, 0.2, 11, endpoint=True), \n",
    "                     boundaries=np.linspace(0.0, 0.2, 11, endpoint=True))\n",
    "cbar.set_clim([0, 0.2])\n",
    "ax1.tick_params(axis='both', which='both', \n",
    "                bottom='off', top='off', left='off', right='off', \n",
    "                labelbottom='off', labelleft='off')\n",
    "ax1.set_title(r'g02aa: interations: ${0}$, $||G-X||_F = {1:.5f}$'.format(itr[0], \n",
    "                                                                       np.linalg.norm(X-G)))\n",
    "plt.show()"
   ]
  },
  {
   "cell_type": "markdown",
   "metadata": {},
   "source": [
    "## Use g02ab to calculate the nearest correlation matrix with row and column weighting"
   ]
  },
  {
   "cell_type": "markdown",
   "metadata": {},
   "source": [
    "### Define the weights as follows"
   ]
  },
  {
   "cell_type": "code",
   "execution_count": 52,
   "metadata": {
    "collapsed": true
   },
   "outputs": [],
   "source": [
    "W = np.array([10, 10, 10, 1, 1, 1, 1, 1], dtype = np.float64)"
   ]
  },
  {
   "cell_type": "code",
   "execution_count": 53,
   "metadata": {
    "collapsed": false
   },
   "outputs": [],
   "source": [
    "order = nag_util.Nag_RowMajor\n",
    "Gflat = G.flatten()\n",
    "n = G.shape[0]\n",
    "opt = nag_util.Nag_Both\n",
    "alpha = 0.001\n",
    "pdg = n\n",
    "errtol = 0.0\n",
    "maxits = 0\n",
    "maxit = 0\n",
    "Xflat = np.empty_like(Gflat)\n",
    "pdx = n\n",
    "itr = np.array([0])\n",
    "feval = np.array([0])\n",
    "nrmgrd = np.array([0.0])\n",
    "fail = nag_util.noisy_fail()\n",
    "nag_g02.g02abc(order, Gflat, pdg, n, opt, alpha, W, errtol, maxits, \n",
    "               maxit, Xflat, pdx, itr, feval, nrmgrd, fail)"
   ]
  },
  {
   "cell_type": "code",
   "execution_count": 54,
   "metadata": {
    "collapsed": false
   },
   "outputs": [
    {
     "name": "stdout",
     "output_type": "stream",
     "text": [
      "[[ 1.     -0.3247  0.1879  0.5733  0.0067 -0.609  -0.0721 -0.1596]\n",
      " [-0.3247  1.      0.2046  0.2423  0.4056  0.2735  0.2867  0.4232]\n",
      " [ 0.1879  0.2046  1.     -0.1321  0.7654  0.2756 -0.6164  0.8995]\n",
      " [ 0.5733  0.2423 -0.1321  1.      0.2083 -0.0889  0.5948 -0.1804]\n",
      " [ 0.0067  0.4056  0.7654  0.2083  1.      0.655  -0.2777  0.8748]\n",
      " [-0.609   0.2735  0.2756 -0.0889  0.655   1.      0.049   0.574 ]\n",
      " [-0.0721  0.2867 -0.6164  0.5948 -0.2777  0.049   1.     -0.4545]\n",
      " [-0.1596  0.4232  0.8995 -0.1804  0.8748  0.574  -0.4545  1.    ]]\n"
     ]
    }
   ],
   "source": [
    "X = np.reshape(Xflat, G.shape)\n",
    "print(X)"
   ]
  },
  {
   "cell_type": "code",
   "execution_count": 55,
   "metadata": {
    "collapsed": false
   },
   "outputs": [
    {
     "name": "stdout",
     "output_type": "stream",
     "text": [
      "The sorted eigenvalues of X [0.0020 0.0020 0.0315 0.1655 0.6767 1.7708 1.8901 3.4614 ]\n"
     ]
    }
   ],
   "source": [
    "print(\"The sorted eigenvalues of X [{0}]\".format(''.join(\n",
    "            ['{:.4f} '.format(x) for x in np.sort(np.linalg.eig(X)[0])])))"
   ]
  },
  {
   "cell_type": "code",
   "execution_count": 56,
   "metadata": {
    "collapsed": false
   },
   "outputs": [
    {
     "data": {
      "image/png": "[encoded data removed]",
      "text/plain": [
       "<matplotlib.figure.Figure at 0x23e315e2358>"
      ]
     },
     "metadata": {},
     "output_type": "display_data"
    }
   ],
   "source": [
    "fig1, ax1 = plt.subplots(figsize=(14, 7))\n",
    "cax1 = ax1.imshow(abs(X-G), interpolation='none', cmap=plt.cm.Blues, vmin=0, vmax=0.2)\n",
    "cbar = fig1.colorbar(cax1, ticks = np.linspace(0.0, 0.2, 11, endpoint=True), \n",
    "                     boundaries=np.linspace(0.0, 0.2, 11, endpoint=True))\n",
    "cbar.set_clim([0, 0.2])\n",
    "ax1.tick_params(axis='both', which='both', \n",
    "                bottom='off', top='off', left='off', right='off', \n",
    "                labelbottom='off', labelleft='off')\n",
    "ax1.set_title(r'g02ab: interations: ${0}$, $||G-X||_F = {1:.4f}$'.format(itr[0], \n",
    "                                                                       np.linalg.norm(X-G)))\n",
    "plt.show()"
   ]
  },
  {
   "cell_type": "markdown",
   "metadata": {},
   "source": [
    "## Use g02aj to calculate the nearest correlation matrix with element-wise weighting"
   ]
  },
  {
   "cell_type": "code",
   "execution_count": 57,
   "metadata": {
    "collapsed": false
   },
   "outputs": [],
   "source": [
    "H = np.ones([n, n])\n",
    "H[0:3, 0:3] = 100"
   ]
  },
  {
   "cell_type": "code",
   "execution_count": 58,
   "metadata": {
    "collapsed": false
   },
   "outputs": [],
   "source": [
    "Gflat = G.flatten()\n",
    "n = G.shape[0]\n",
    "alpha = 0.001\n",
    "Hflat = H.flatten()\n",
    "pdg = n\n",
    "pdh = n\n",
    "errtol = 0.0\n",
    "maxits = 0\n",
    "maxit = 500\n",
    "Xflat = np.empty_like(Gflat)\n",
    "pdx = n\n",
    "itr = np.array([0])\n",
    "norm = np.array([0.0])\n",
    "fail = nag_util.noisy_fail()\n",
    "nag_g02.g02ajc(Gflat, pdg, n, alpha, Hflat, pdh, errtol, \n",
    "               maxit, Xflat, pdx, itr, norm, fail)"
   ]
  },
  {
   "cell_type": "code",
   "execution_count": 59,
   "metadata": {
    "collapsed": false
   },
   "outputs": [
    {
     "name": "stdout",
     "output_type": "stream",
     "text": [
      "[[ 1.     -0.3247  0.188   0.5091  0.0306 -0.5611 -0.0569 -0.1701]\n",
      " [-0.3247  1.      0.2047  0.2146  0.3837  0.2504  0.2676  0.3781]\n",
      " [ 0.188   0.2047  1.     -0.1331  0.7175  0.2534 -0.5607  0.812 ]\n",
      " [ 0.5091  0.2146 -0.1331  1.      0.2081  0.0145  0.6079 -0.2272]\n",
      " [ 0.0306  0.3837  0.7175  0.2081  1.      0.6622 -0.282   0.8732]\n",
      " [-0.5611  0.2504  0.2534  0.0145  0.6622  1.      0.0482  0.5982]\n",
      " [-0.0569  0.2676 -0.5607  0.6079 -0.282   0.0482  1.     -0.4438]\n",
      " [-0.1701  0.3781  0.812  -0.2272  0.8732  0.5982 -0.4438  1.    ]]\n"
     ]
    }
   ],
   "source": [
    "X = np.reshape(Xflat, G.shape)\n",
    "print(X)"
   ]
  },
  {
   "cell_type": "code",
   "execution_count": 60,
   "metadata": {
    "collapsed": false
   },
   "outputs": [
    {
     "name": "stdout",
     "output_type": "stream",
     "text": [
      "The sorted eigenvalues of X [0.0020 0.0129 0.1162 0.2104 0.7367 1.6700 1.8892 3.3627 ]\n"
     ]
    }
   ],
   "source": [
    "print(\"The sorted eigenvalues of X [{0}]\".format(''.join(\n",
    "            ['{:.4f} '.format(x) for x in np.sort(np.linalg.eig(X)[0])])))"
   ]
  },
  {
   "cell_type": "code",
   "execution_count": 61,
   "metadata": {
    "collapsed": false
   },
   "outputs": [
    {
     "data": {
      "image/png": "[encoded data removed]",
      "text/plain": [
       "<matplotlib.figure.Figure at 0x23e2ffa0a90>"
      ]
     },
     "metadata": {},
     "output_type": "display_data"
    }
   ],
   "source": [
    "fig1, ax1 = plt.subplots(figsize=(14, 7))\n",
    "cax1 = ax1.imshow(abs(X-G), interpolation='none', cmap=plt.cm.Blues, vmin=0, vmax=0.2)\n",
    "cbar = fig1.colorbar(cax1, ticks = np.linspace(0.0, 0.2, 11, endpoint=True), \n",
    "                     boundaries=np.linspace(0.0, 0.2, 11, endpoint=True))\n",
    "cbar.set_clim([0, 0.2])\n",
    "ax1.tick_params(axis='both', which='both', \n",
    "                bottom='off', top='off', left='off', right='off', \n",
    "                labelbottom='off', labelleft='off')\n",
    "ax1.set_title(r'g02aj: interations: ${0}$, $||G-X||_F = {1:.4f}$'.format(itr[0], \n",
    "                                                                       np.linalg.norm(X-G)))\n",
    "plt.show()"
   ]
  },
  {
   "cell_type": "markdown",
   "metadata": {},
   "source": [
    "## Use g02an to calculate the nearest correlation matrix with fixed leading block"
   ]
  },
  {
   "cell_type": "code",
   "execution_count": 62,
   "metadata": {
    "collapsed": false
   },
   "outputs": [],
   "source": [
    "Gflat = G.flatten()\n",
    "n = G.shape[0]\n",
    "pdg = n\n",
    "k = 3\n",
    "errtol = 0.0\n",
    "eigtol = 0.0\n",
    "maxits = 0\n",
    "maxit = 500\n",
    "Xflat = np.empty_like(Gflat)\n",
    "pdx = n\n",
    "alpha = np.array([0.0])\n",
    "itr = np.array([0], dtype=nag_util.nag_int_type)\n",
    "eigmin = np.array([0.0])\n",
    "norm = np.array([0.0])\n",
    "fail = nag_util.noisy_fail()\n",
    "nag_g02.g02anc(Gflat, pdg, n, k, errtol, eigtol, Xflat, pdx, \n",
    "               alpha, itr, eigmin, norm, fail)"
   ]
  },
  {
   "cell_type": "code",
   "execution_count": 63,
   "metadata": {
    "collapsed": false
   },
   "outputs": [
    {
     "name": "stdout",
     "output_type": "stream",
     "text": [
      "[[ 1.     -0.3247  0.188   0.5091  0.0306 -0.5611 -0.0569 -0.1701]\n",
      " [-0.3247  1.      0.2047  0.2146  0.3837  0.2504  0.2676  0.3781]\n",
      " [ 0.188   0.2047  1.     -0.1331  0.7175  0.2534 -0.5607  0.812 ]\n",
      " [ 0.5091  0.2146 -0.1331  1.      0.2081  0.0145  0.6079 -0.2272]\n",
      " [ 0.0306  0.3837  0.7175  0.2081  1.      0.6622 -0.282   0.8732]\n",
      " [-0.5611  0.2504  0.2534  0.0145  0.6622  1.      0.0482  0.5982]\n",
      " [-0.0569  0.2676 -0.5607  0.6079 -0.282   0.0482  1.     -0.4438]\n",
      " [-0.1701  0.3781  0.812  -0.2272  0.8732  0.5982 -0.4438  1.    ]]\n"
     ]
    }
   ],
   "source": [
    "#X = np.reshape(Xflat, G.shape)\n",
    "print(X)"
   ]
  },
  {
   "cell_type": "code",
   "execution_count": 64,
   "metadata": {
    "collapsed": false
   },
   "outputs": [
    {
     "name": "stdout",
     "output_type": "stream",
     "text": [
      "The sorted eigenvalues of X [0.0020 0.0129 0.1162 0.2104 0.7367 1.6700 1.8892 3.3627 ]\n"
     ]
    }
   ],
   "source": [
    "print(\"The sorted eigenvalues of X [{0}]\".format(''.join(\n",
    "            ['{:.4f} '.format(x) for x in np.sort(np.linalg.eig(X)[0])])))"
   ]
  },
  {
   "cell_type": "code",
   "execution_count": 65,
   "metadata": {
    "collapsed": false
   },
   "outputs": [
    {
     "data": {
      "image/png": "[encoded data removed]",
      "text/plain": [
       "<matplotlib.figure.Figure at 0x23e2f4f6a58>"
      ]
     },
     "metadata": {},
     "output_type": "display_data"
    }
   ],
   "source": [
    "fig1, ax1 = plt.subplots(figsize=(14, 7))\n",
    "cax1 = ax1.imshow(abs(X-G), interpolation='none', cmap=plt.cm.Blues, vmin=0, vmax=0.2)\n",
    "cbar = fig1.colorbar(cax1, ticks = np.linspace(0.0, 0.2, 11, endpoint=True),\n",
    "                     boundaries=np.linspace(0.0, 0.2, 11, endpoint=True))\n",
    "cbar.set_clim([0, 0.2])\n",
    "ax1.tick_params(axis='both', which='both', \n",
    "                bottom='off', top='off', left='off', right='off', \n",
    "                labelbottom='off', labelleft='off')\n",
    "ax1.set_title(r'g02an: interations: ${0}$, $||G-X||_F = {1:.4f}$'.format(itr[0], \n",
    "                                                                       np.linalg.norm(X-G)))\n",
    "plt.show()"
   ]
  },
  {
   "cell_type": "code",
   "execution_count": null,
   "metadata": {
    "collapsed": true
   },
   "outputs": [],
   "source": []
  }
 ],
 "metadata": {
  "anaconda-cloud": {},
  "kernelspec": {
   "display_name": "nag_ncm",
   "language": "python",
   "name": "nag_ncm"
  },
  "language_info": {
   "codemirror_mode": {
    "name": "ipython",
    "version": 3
   },
   "file_extension": ".py",
   "mimetype": "text/x-python",
   "name": "python",
   "nbconvert_exporter": "python",
   "pygments_lexer": "ipython3",
   "version": "3.5.2"
  }
 },
 "nbformat": 4,
 "nbformat_minor": 0
}
